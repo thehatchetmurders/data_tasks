{
 "cells": [
  {
   "cell_type": "code",
   "execution_count": 4,
   "id": "5d0c9fb0",
   "metadata": {},
   "outputs": [
    {
     "ename": "ValueError",
     "evalue": "Document must have exactly one root.",
     "output_type": "error",
     "traceback": [
      "\u001b[1;31m---------------------------------------------------------------------------\u001b[0m",
      "\u001b[1;31mValueError\u001b[0m                                Traceback (most recent call last)",
      "Input \u001b[1;32mIn [4]\u001b[0m, in \u001b[0;36m<cell line: 5>\u001b[1;34m()\u001b[0m\n\u001b[0;32m      5\u001b[0m \u001b[38;5;28;01mif\u001b[39;00m \u001b[38;5;18m__name__\u001b[39m \u001b[38;5;241m==\u001b[39m \u001b[38;5;124m\"\u001b[39m\u001b[38;5;124m__main__\u001b[39m\u001b[38;5;124m\"\u001b[39m:\n\u001b[0;32m      6\u001b[0m     json \u001b[38;5;241m=\u001b[39m {\u001b[38;5;124m\"\u001b[39m\u001b[38;5;124mfullname\u001b[39m\u001b[38;5;124m\"\u001b[39m:\u001b[38;5;124m\"\u001b[39m\u001b[38;5;124mGeorge\u001b[39m\u001b[38;5;124m\"\u001b[39m,\u001b[38;5;124m\"\u001b[39m\u001b[38;5;124mcharacteristics\u001b[39m\u001b[38;5;124m\"\u001b[39m:{\u001b[38;5;124m\"\u001b[39m\u001b[38;5;124msex\u001b[39m\u001b[38;5;124m\"\u001b[39m:\u001b[38;5;124m\"\u001b[39m\u001b[38;5;124mmale\u001b[39m\u001b[38;5;124m\"\u001b[39m,\u001b[38;5;124m\"\u001b[39m\u001b[38;5;124mage\u001b[39m\u001b[38;5;124m\"\u001b[39m:\u001b[38;5;241m27\u001b[39m},\u001b[38;5;124m\"\u001b[39m\u001b[38;5;124mskills\u001b[39m\u001b[38;5;124m\"\u001b[39m:[\u001b[38;5;124m\"\u001b[39m\u001b[38;5;124msmart\u001b[39m\u001b[38;5;124m\"\u001b[39m,\u001b[38;5;124m\"\u001b[39m\u001b[38;5;124mstrong\u001b[39m\u001b[38;5;124m\"\u001b[39m],\u001b[38;5;124m\"\u001b[39m\u001b[38;5;124mexperience\u001b[39m\u001b[38;5;124m\"\u001b[39m:[{\u001b[38;5;124m\"\u001b[39m\u001b[38;5;124mposition\u001b[39m\u001b[38;5;124m\"\u001b[39m:\u001b[38;5;124m\"\u001b[39m\u001b[38;5;124mdeveloper\u001b[39m\u001b[38;5;124m\"\u001b[39m,\u001b[38;5;124m\"\u001b[39m\u001b[38;5;124mworkplace\u001b[39m\u001b[38;5;124m\"\u001b[39m:\u001b[38;5;124m\"\u001b[39m\u001b[38;5;124mnetflix\u001b[39m\u001b[38;5;124m\"\u001b[39m,\u001b[38;5;124m\"\u001b[39m\u001b[38;5;124msalary\u001b[39m\u001b[38;5;124m\"\u001b[39m:\u001b[38;5;124m\"\u001b[39m\u001b[38;5;124m7000\u001b[39m\u001b[38;5;124m\"\u001b[39m},{\u001b[38;5;124m\"\u001b[39m\u001b[38;5;124mposition\u001b[39m\u001b[38;5;124m\"\u001b[39m:\u001b[38;5;124m\"\u001b[39m\u001b[38;5;124mengineer\u001b[39m\u001b[38;5;124m\"\u001b[39m,\u001b[38;5;124m\"\u001b[39m\u001b[38;5;124mworkplace\u001b[39m\u001b[38;5;124m\"\u001b[39m:\u001b[38;5;124m\"\u001b[39m\u001b[38;5;124mfacebook\u001b[39m\u001b[38;5;124m\"\u001b[39m,\u001b[38;5;124m\"\u001b[39m\u001b[38;5;124mid_card\u001b[39m\u001b[38;5;124m\"\u001b[39m:\u001b[38;5;241m56117\u001b[39m,\u001b[38;5;124m\"\u001b[39m\u001b[38;5;124mCountry\u001b[39m\u001b[38;5;124m\"\u001b[39m:\u001b[38;5;124m\"\u001b[39m\u001b[38;5;124mScotland\u001b[39m\u001b[38;5;124m\"\u001b[39m}]}\n\u001b[1;32m----> 7\u001b[0m     \u001b[43mconvert\u001b[49m\u001b[43m(\u001b[49m\u001b[43mjson\u001b[49m\u001b[43m)\u001b[49m\n",
      "Input \u001b[1;32mIn [4]\u001b[0m, in \u001b[0;36mconvert\u001b[1;34m(jsn)\u001b[0m\n\u001b[0;32m      2\u001b[0m \u001b[38;5;28;01mdef\u001b[39;00m \u001b[38;5;21mconvert\u001b[39m(jsn):\n\u001b[1;32m----> 3\u001b[0m     xm \u001b[38;5;241m=\u001b[39m \u001b[43mxmltodict\u001b[49m\u001b[38;5;241;43m.\u001b[39;49m\u001b[43munparse\u001b[49m\u001b[43m(\u001b[49m\u001b[43mjsn\u001b[49m\u001b[43m)\u001b[49m\n\u001b[0;32m      4\u001b[0m     \u001b[38;5;28mprint\u001b[39m(xm)\n",
      "File \u001b[1;32mc:\\users\\user\\appdata\\local\\programs\\python\\python38\\lib\\site-packages\\xmltodict.py:494\u001b[0m, in \u001b[0;36munparse\u001b[1;34m(input_dict, output, encoding, full_document, short_empty_elements, **kwargs)\u001b[0m\n\u001b[0;32m    479\u001b[0m \u001b[38;5;124;03m\"\"\"Emit an XML document for the given `input_dict` (reverse of `parse`).\u001b[39;00m\n\u001b[0;32m    480\u001b[0m \n\u001b[0;32m    481\u001b[0m \u001b[38;5;124;03mThe resulting XML document is returned as a string, but if `output` (a\u001b[39;00m\n\u001b[1;32m   (...)\u001b[0m\n\u001b[0;32m    491\u001b[0m \n\u001b[0;32m    492\u001b[0m \u001b[38;5;124;03m\"\"\"\u001b[39;00m\n\u001b[0;32m    493\u001b[0m \u001b[38;5;28;01mif\u001b[39;00m full_document \u001b[38;5;129;01mand\u001b[39;00m \u001b[38;5;28mlen\u001b[39m(input_dict) \u001b[38;5;241m!=\u001b[39m \u001b[38;5;241m1\u001b[39m:\n\u001b[1;32m--> 494\u001b[0m     \u001b[38;5;28;01mraise\u001b[39;00m \u001b[38;5;167;01mValueError\u001b[39;00m(\u001b[38;5;124m'\u001b[39m\u001b[38;5;124mDocument must have exactly one root.\u001b[39m\u001b[38;5;124m'\u001b[39m)\n\u001b[0;32m    495\u001b[0m must_return \u001b[38;5;241m=\u001b[39m \u001b[38;5;28;01mFalse\u001b[39;00m\n\u001b[0;32m    496\u001b[0m \u001b[38;5;28;01mif\u001b[39;00m output \u001b[38;5;129;01mis\u001b[39;00m \u001b[38;5;28;01mNone\u001b[39;00m:\n",
      "\u001b[1;31mValueError\u001b[0m: Document must have exactly one root."
     ]
    }
   ],
   "source": [
    "import xmltodict\n",
    "def convert(jsn):\n",
    "    xm = xmltodict.unparse(jsn)\n",
    "    print(xm)\n",
    "if __name__ == \"__main__\":\n",
    "    json = {\"fullname\":\"George\",\"characteristics\":{\"sex\":\"male\",\"age\":27},\"skills\":[\"smart\",\"strong\"],\"experience\":[{\"position\":\"developer\",\"workplace\":\"netflix\",\"salary\":\"7000\"},{\"position\":\"engineer\",\"workplace\":\"facebook\",\"id_card\":56117,\"Country\":\"Scotland\"}]}\n",
    "    convert(json)"
   ]
  },
  {
   "cell_type": "code",
   "execution_count": 12,
   "id": "b65d1acb",
   "metadata": {},
   "outputs": [
    {
     "data": {
      "text/plain": [
       "[<Element fullname at 0x1eefe048a40>,\n",
       " <Element characteristics at 0x1eefe048080>,\n",
       " <Element skills at 0x1eefe048140>,\n",
       " <Element skills at 0x1eefe048040>,\n",
       " <Element experience at 0x1eefe048a80>,\n",
       " <Element experience at 0x1eefe048b00>]"
      ]
     },
     "execution_count": 12,
     "metadata": {},
     "output_type": "execute_result"
    }
   ],
   "source": [
    "import xmljson\n",
    "xmljson.badgerfish.etree({\"fullname\":\"George\",\"characteristics\":{\"sex\":\"male\",\"age\":27},\"skills\":[\"smart\",\"strong\"],\"experience\":[{\"position\":\"developer\",\"workplace\":\"netflix\",\"salary\":\"7000\"},{\"position\":\"engineer\",\"workplace\":\"facebook\",\"id_card\":56117,\"Country\":\"Scotland\"}]})"
   ]
  },
  {
   "cell_type": "code",
   "execution_count": 32,
   "id": "619fb9a5",
   "metadata": {},
   "outputs": [
    {
     "name": "stdout",
     "output_type": "stream",
     "text": [
      "<?xml version=\"1.0\" encoding=\"utf-8\"?>\n",
      "<root>\n",
      "\t<fullname>George</fullname>\n",
      "\t<characteristics>\n",
      "\t\t<sex>male</sex>\n",
      "\t\t<age>27</age>\n",
      "\t</characteristics>\n",
      "\t<skills>smart</skills>\n",
      "\t<skills>strong</skills>\n",
      "\t<experience>\n",
      "\t\t<position>developer</position>\n",
      "\t\t<workplace>netflix</workplace>\n",
      "\t\t<salary>7000</salary>\n",
      "\t</experience>\n",
      "\t<experience>\n",
      "\t\t<position>engineer</position>\n",
      "\t\t<workplace>facebook</workplace>\n",
      "\t\t<id_card>56117</id_card>\n",
      "\t\t<Country>Scotland</Country>\n",
      "\t</experience>\n",
      "</root>\n"
     ]
    }
   ],
   "source": [
    "import json\n",
    "import xmltodict\n",
    "\n",
    "y = r'{\"fullname\":\"George\",\"characteristics\":{\"sex\":\"male\",\"age\":27},\"skills\":[\"smart\",\"strong\"],\"experience\":[{\"position\":\"developer\",\"workplace\":\"netflix\",\"salary\":\"7000\"},{\"position\":\"engineer\",\"workplace\":\"facebook\",\"id_card\":56117,\"Country\":\"Scotland\"}]}'\n",
    "\n",
    "y2 = json.loads(y)\n",
    "y2 = {'root':y2}\n",
    "print(xmltodict.unparse(y2, pretty = True))"
   ]
  },
  {
   "cell_type": "code",
   "execution_count": null,
   "id": "df95391b",
   "metadata": {},
   "outputs": [],
   "source": []
  }
 ],
 "metadata": {
  "kernelspec": {
   "display_name": "Python 3 (ipykernel)",
   "language": "python",
   "name": "python3"
  },
  "language_info": {
   "codemirror_mode": {
    "name": "ipython",
    "version": 3
   },
   "file_extension": ".py",
   "mimetype": "text/x-python",
   "name": "python",
   "nbconvert_exporter": "python",
   "pygments_lexer": "ipython3",
   "version": "3.8.5"
  }
 },
 "nbformat": 4,
 "nbformat_minor": 5
}
